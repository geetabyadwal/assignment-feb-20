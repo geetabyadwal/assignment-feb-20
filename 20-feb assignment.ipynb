{
 "cells": [
  {
   "cell_type": "code",
   "execution_count": null,
   "id": "149cbb73-9369-4ec9-a8c7-13f95e3a986c",
   "metadata": {},
   "outputs": [],
   "source": [
    "Ans = 1\n",
    "1.\n",
    "GET Method:\n",
    "The GET method requests a representation of a specified resource, which could be a web page, an image, \n",
    "or any other file. The parameters of the request are included in the URL, which is sent as a part of \n",
    "the request header. The GET method is used when the data is retrievable, and the request does not modify\n",
    "the state of the server. For example, when you type a URL in your web browser and hit Enter, the browser \n",
    "sends a GET request to the server to retrieve the web page.\n",
    "\n",
    "2.\n",
    "POST Method:\n",
    "The POST method sends data to the server to create or update a resource, which could be a database record or a\n",
    "file. Unlike the GET method, the data sent in the POST method is included in the request body, not in the URL. \n",
    "The POST method is used when the data is not retrievable or when the request modifies the state of the server. \n",
    "For example, when you submit a form on a website, the data entered in the form is sent to the server using the\n",
    "POST method.\n",
    "\n"
   ]
  },
  {
   "cell_type": "code",
   "execution_count": null,
   "id": "7210e9c9-b695-48e9-8326-9c153d15b78a",
   "metadata": {},
   "outputs": [],
   "source": [
    "Ans = 2\n",
    "The request object allows the Flask application to access information about the incoming request, including \n",
    "the request method (GET, POST, PUT, DELETE, etc.), the headers, the URL parameters, and the data sent in the \n",
    "request body.\n",
    "\n",
    "\n",
    "The request object is useful because it enables the Flask application to:\n",
    "\n",
    "1.Retrieve data from HTML forms: When a user submits a form on a web page, the data entered in the form is \n",
    "sent to the Flask application using a POST request. The request object can be used to access this data and \n",
    "process it.\n",
    "\n",
    "2.\n",
    "Access and manipulate cookies: Cookies are small data files stored in a users web browser that are used to \n",
    "remember information about the user, such as their login credentials or preferences. The request object can be\n",
    "used to access and manipulate cookies.\n",
    "\n",
    "3.\n",
    "Authenticate users: The request object can be used to extract authentication information from the request \n",
    "headers or cookies, allowing the Flask application to authenticate users and grant them access to protected \n",
    "resources.\n",
    "\n",
    "3.\n",
    "Route requests to the appropriate endpoint: The request object contains information about the requested URL,\n",
    "allowing the Flask application to route the request to the appropriate endpoint based on the URL pattern."
   ]
  },
  {
   "cell_type": "code",
   "execution_count": null,
   "id": "efa1b39c-7eee-41da-8b03-50d58f59b09c",
   "metadata": {},
   "outputs": [],
   "source": [
    "Ans = 3\n",
    "1.\n",
    "Route users to a new URL: Redirecting a user to a new URL is a common operation in web development.\n",
    "For example, after a user submits a form on a web page, they might be redirected to a confirmation page. \n",
    "The redirect() function allows Flask applications to easily route users to a new URL.\n",
    "\n",
    "2.\n",
    "Maintain state between requests: When a user is redirected to a new URL, any state information from the \n",
    "previous request may be lost. To maintain state between requests, Flask applications can use query parameters,\n",
    "session variables, or cookies.\n",
    "\n",
    "3.\n",
    "Implement authentication and authorization: Redirects can be used to implement authentication and \n",
    "authorization workflows. For example, if a user tries to access a protected resource without being \n",
    "authenticated, they can be redirected to a login page.\n",
    "\n",
    "4.\n",
    "Implement error handling: If a Flask application encounters an error, such as a 404 error (page not found), \n",
    "it can use the redirect() function to redirect the user to a custom error page.\n",
    "\n",
    "5.\n",
    "Improve SEO: Redirects can also be used to improve search engine optimization (SEO) by redirecting old URLs \n",
    "to new ones, or by redirecting non-www URLs to www URLs or vice versa."
   ]
  },
  {
   "cell_type": "code",
   "execution_count": null,
   "id": "549f8fb6-8c70-47ab-923b-3fc644ce1c59",
   "metadata": {},
   "outputs": [],
   "source": [
    "Ans = 4\n",
    "from flask import Flask, render_template\n",
    "\n",
    "app = Flask(__name__)\n",
    "\n",
    "@app.route('/')\n",
    "def index():\n",
    "    name = 'John Doe'\n",
    "    return render_template('index.html', name=name)\n"
   ]
  },
  {
   "cell_type": "code",
   "execution_count": null,
   "id": "baf47f2b-a1c6-411f-9bf6-a95d4ef356e9",
   "metadata": {},
   "outputs": [],
   "source": [
    "Ans = 5\n",
    "from flask import Flask, jsonify\n",
    "\n",
    "app = Flask(__name__)\n",
    "\n",
    "@app.route('/api/hello', methods=['GET'])\n",
    "def hello():\n",
    "    return jsonify({'message': 'Hello, world!'})\n",
    "\n",
    "if __name__ == '__main__':\n",
    "    app.run(debug=True)\n"
   ]
  }
 ],
 "metadata": {
  "kernelspec": {
   "display_name": "Python 3 (ipykernel)",
   "language": "python",
   "name": "python3"
  },
  "language_info": {
   "codemirror_mode": {
    "name": "ipython",
    "version": 3
   },
   "file_extension": ".py",
   "mimetype": "text/x-python",
   "name": "python",
   "nbconvert_exporter": "python",
   "pygments_lexer": "ipython3",
   "version": "3.10.8"
  }
 },
 "nbformat": 4,
 "nbformat_minor": 5
}
